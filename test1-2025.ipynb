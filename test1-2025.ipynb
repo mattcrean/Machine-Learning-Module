{
 "cells": [
  {
   "cell_type": "code",
   "execution_count": 1,
   "id": "64b51d52",
   "metadata": {},
   "outputs": [],
   "source": [
    "student_id = \"11093712\"\n",
    "\n",
    "student_mail = \"matthew.crean@student.manchester.ac.uk\""
   ]
  },
  {
   "cell_type": "markdown",
   "id": "eef390d5",
   "metadata": {},
   "source": [
    "# Coursework 1\n",
    "\n",
    "This coursework test contains several Jupyter Notebook cells with the comment `# TODO`. This is where you type the code for your solutions. Do not alter any of the other cells. \n",
    "\n",
    "It is good practice to include markdown cells explaining your work, but in this test they won't be marked. \n",
    "\n",
    "Here are some tips:\n",
    "\n",
    "* **Do not alter the names of the predefined variables and functions,** such as `sales`, `avgPrice`, etc. The values of these variables will inform the marking. Renaming them and failure to follow the problem description will result in loss of marks.\n",
    "\n",
    "* **Do not hard-code any solution variables.** All problems must be solved by computer code using the data in the provided CSV file. For example, do *not* simply define a variable `sales = 1234` with a fixed value. Your Jupyter Notebook should produce results with a modified data file that has the same format but different numerical (or NaN) values.\n",
    "\n",
    "* **Submit this test as a single .ipynb file using Blackboard.** You can simply keep the name `test1-2025.ipynb`. There is a basic testing code at the end that verifies some parts of the coursework.\n",
    "\n",
    "   <span style=\"color:blue; font-weight:bold\">Strict deadline: Monday, 3rd of May 2025, at 1pm</span>\n",
    "\n",
    "## Note on independent work\n",
    "\n",
    "You need to complete all coursework tests independently on your own, but you are allowed to use online resources and all course notes and exercise solutions. The course notes from chapters 1 to 3 contain all that is required to solve the below problems. You are not allowed to ask other humans for help. In particular, you are not allowed to send, give, or receive code or markdown content to/from classmates and others.\n",
    "\n",
    "The University Guidelines for Academic Malpractice apply: http://documents.manchester.ac.uk/display.aspx?DocID=2870\n",
    "\n",
    "**Important: Even if you are the originator of the work** (and not the one who copied), the University Guidelines require that you will be equally responsible for this case of academic malpractice and may lose all coursework marks (or even be assigned 0 marks for the course)."
   ]
  },
  {
   "cell_type": "markdown",
   "id": "2295b152",
   "metadata": {},
   "source": [
    "# Start of test\n",
    "\n",
    "We will analyse data relating to UK houseprices. The dataset has been taken from the [Government's house price index website](https://www.gov.uk/government/publications/about-the-uk-house-price-index/about-the-uk-house-price-index). This website also contains a [*data table*](https://www.gov.uk/government/publications/about-the-uk-house-price-index/about-the-uk-house-price-index#data-tables) describing the column names of the dataset.\n",
    "\n",
    "We first load all the required modules and the dataset `UK_houseprices.csv` into a data frame `df`.\n",
    "\n",
    "**Important:** \n",
    "\n",
    "* The dataset `UK_houseprices.csv` has recently been added to the [_datasets.zip](../_datasets.zip) file. You may have to download it again.\n",
    "\n",
    "* Ensure that `df` does not change throughout the whole notebook. Most exercises use `df` as a starting point to construct other data frames or series.\n"
   ]
  },
  {
   "cell_type": "code",
   "execution_count": 2,
   "id": "fdc2a253-d922-4124-931c-d4a90308d222",
   "metadata": {
    "nbgrader": {
     "grade": false,
     "grade_id": "cell-34389c5497ccc8a9",
     "locked": true,
     "schema_version": 3,
     "solution": false,
     "task": false
    },
    "tags": []
   },
   "outputs": [
    {
     "data": {
      "text/html": [
       "<div>\n",
       "<style scoped>\n",
       "    .dataframe tbody tr th:only-of-type {\n",
       "        vertical-align: middle;\n",
       "    }\n",
       "\n",
       "    .dataframe tbody tr th {\n",
       "        vertical-align: top;\n",
       "    }\n",
       "\n",
       "    .dataframe thead th {\n",
       "        text-align: right;\n",
       "    }\n",
       "</style>\n",
       "<table border=\"1\" class=\"dataframe\">\n",
       "  <thead>\n",
       "    <tr style=\"text-align: right;\">\n",
       "      <th></th>\n",
       "      <th>Date</th>\n",
       "      <th>RegionName</th>\n",
       "      <th>AveragePrice</th>\n",
       "      <th>SalesVolume</th>\n",
       "      <th>NewPrice</th>\n",
       "      <th>NewSalesVolume</th>\n",
       "      <th>OldPrice</th>\n",
       "      <th>OldSalesVolume</th>\n",
       "      <th>DetachedPrice</th>\n",
       "      <th>SemiDetachedPrice</th>\n",
       "      <th>TerracedPrice</th>\n",
       "      <th>FlatPrice</th>\n",
       "      <th>CashPrice</th>\n",
       "      <th>CashSalesVolume</th>\n",
       "      <th>MortgagePrice</th>\n",
       "      <th>MortgageSalesVolume</th>\n",
       "      <th>FTBPrice</th>\n",
       "      <th>FOOPrice</th>\n",
       "    </tr>\n",
       "  </thead>\n",
       "  <tbody>\n",
       "    <tr>\n",
       "      <th>0</th>\n",
       "      <td>2013-01-01</td>\n",
       "      <td>Aberdeenshire</td>\n",
       "      <td>170639.7192</td>\n",
       "      <td>261.0</td>\n",
       "      <td>183969.0424</td>\n",
       "      <td>39.0</td>\n",
       "      <td>169309.4966</td>\n",
       "      <td>222.0</td>\n",
       "      <td>236804.1417</td>\n",
       "      <td>148347.9934</td>\n",
       "      <td>125092.0936</td>\n",
       "      <td>98809.76341</td>\n",
       "      <td>160099.2333</td>\n",
       "      <td>67.0</td>\n",
       "      <td>174150.5603</td>\n",
       "      <td>194.0</td>\n",
       "      <td>135678.8608</td>\n",
       "      <td>195129.4940</td>\n",
       "    </tr>\n",
       "    <tr>\n",
       "      <th>1</th>\n",
       "      <td>2013-02-01</td>\n",
       "      <td>Aberdeenshire</td>\n",
       "      <td>172926.8599</td>\n",
       "      <td>241.0</td>\n",
       "      <td>185247.9826</td>\n",
       "      <td>40.0</td>\n",
       "      <td>171650.3277</td>\n",
       "      <td>201.0</td>\n",
       "      <td>239929.4073</td>\n",
       "      <td>150423.2900</td>\n",
       "      <td>126677.1588</td>\n",
       "      <td>100074.84820</td>\n",
       "      <td>162097.2953</td>\n",
       "      <td>60.0</td>\n",
       "      <td>176541.3455</td>\n",
       "      <td>181.0</td>\n",
       "      <td>137448.5966</td>\n",
       "      <td>197788.7690</td>\n",
       "    </tr>\n",
       "    <tr>\n",
       "      <th>2</th>\n",
       "      <td>2013-03-01</td>\n",
       "      <td>Aberdeenshire</td>\n",
       "      <td>173254.1927</td>\n",
       "      <td>383.0</td>\n",
       "      <td>186403.4054</td>\n",
       "      <td>85.0</td>\n",
       "      <td>171972.1848</td>\n",
       "      <td>298.0</td>\n",
       "      <td>240684.3117</td>\n",
       "      <td>150720.7354</td>\n",
       "      <td>126643.1292</td>\n",
       "      <td>99944.46491</td>\n",
       "      <td>162327.7517</td>\n",
       "      <td>91.0</td>\n",
       "      <td>176906.2240</td>\n",
       "      <td>292.0</td>\n",
       "      <td>137539.5560</td>\n",
       "      <td>198277.9599</td>\n",
       "    </tr>\n",
       "    <tr>\n",
       "      <th>3</th>\n",
       "      <td>2013-04-01</td>\n",
       "      <td>Aberdeenshire</td>\n",
       "      <td>174269.6560</td>\n",
       "      <td>389.0</td>\n",
       "      <td>189231.7605</td>\n",
       "      <td>66.0</td>\n",
       "      <td>172918.5518</td>\n",
       "      <td>323.0</td>\n",
       "      <td>242471.1113</td>\n",
       "      <td>151160.3107</td>\n",
       "      <td>127367.7233</td>\n",
       "      <td>100507.71170</td>\n",
       "      <td>163270.3801</td>\n",
       "      <td>105.0</td>\n",
       "      <td>177946.5535</td>\n",
       "      <td>284.0</td>\n",
       "      <td>138262.1588</td>\n",
       "      <td>199497.4580</td>\n",
       "    </tr>\n",
       "    <tr>\n",
       "      <th>4</th>\n",
       "      <td>2013-05-01</td>\n",
       "      <td>Aberdeenshire</td>\n",
       "      <td>174656.0565</td>\n",
       "      <td>513.0</td>\n",
       "      <td>189857.2634</td>\n",
       "      <td>70.0</td>\n",
       "      <td>173294.6386</td>\n",
       "      <td>443.0</td>\n",
       "      <td>242134.2998</td>\n",
       "      <td>151657.2553</td>\n",
       "      <td>127958.7393</td>\n",
       "      <td>101801.47670</td>\n",
       "      <td>163790.2398</td>\n",
       "      <td>112.0</td>\n",
       "      <td>178278.7931</td>\n",
       "      <td>401.0</td>\n",
       "      <td>138914.7904</td>\n",
       "      <td>199701.3760</td>\n",
       "    </tr>\n",
       "  </tbody>\n",
       "</table>\n",
       "</div>"
      ],
      "text/plain": [
       "         Date     RegionName  AveragePrice  SalesVolume     NewPrice  \\\n",
       "0  2013-01-01  Aberdeenshire   170639.7192        261.0  183969.0424   \n",
       "1  2013-02-01  Aberdeenshire   172926.8599        241.0  185247.9826   \n",
       "2  2013-03-01  Aberdeenshire   173254.1927        383.0  186403.4054   \n",
       "3  2013-04-01  Aberdeenshire   174269.6560        389.0  189231.7605   \n",
       "4  2013-05-01  Aberdeenshire   174656.0565        513.0  189857.2634   \n",
       "\n",
       "   NewSalesVolume     OldPrice  OldSalesVolume  DetachedPrice  \\\n",
       "0            39.0  169309.4966           222.0    236804.1417   \n",
       "1            40.0  171650.3277           201.0    239929.4073   \n",
       "2            85.0  171972.1848           298.0    240684.3117   \n",
       "3            66.0  172918.5518           323.0    242471.1113   \n",
       "4            70.0  173294.6386           443.0    242134.2998   \n",
       "\n",
       "   SemiDetachedPrice  TerracedPrice     FlatPrice    CashPrice  \\\n",
       "0        148347.9934    125092.0936   98809.76341  160099.2333   \n",
       "1        150423.2900    126677.1588  100074.84820  162097.2953   \n",
       "2        150720.7354    126643.1292   99944.46491  162327.7517   \n",
       "3        151160.3107    127367.7233  100507.71170  163270.3801   \n",
       "4        151657.2553    127958.7393  101801.47670  163790.2398   \n",
       "\n",
       "   CashSalesVolume  MortgagePrice  MortgageSalesVolume     FTBPrice  \\\n",
       "0             67.0    174150.5603                194.0  135678.8608   \n",
       "1             60.0    176541.3455                181.0  137448.5966   \n",
       "2             91.0    176906.2240                292.0  137539.5560   \n",
       "3            105.0    177946.5535                284.0  138262.1588   \n",
       "4            112.0    178278.7931                401.0  138914.7904   \n",
       "\n",
       "      FOOPrice  \n",
       "0  195129.4940  \n",
       "1  197788.7690  \n",
       "2  198277.9599  \n",
       "3  199497.4580  \n",
       "4  199701.3760  "
      ]
     },
     "execution_count": 2,
     "metadata": {},
     "output_type": "execute_result"
    }
   ],
   "source": [
    "import warnings\n",
    "warnings.simplefilter(action='ignore', category=FutureWarning)\n",
    "warnings.simplefilter(action='ignore', category=DeprecationWarning)\n",
    "\n",
    "import numpy as np\n",
    "import pandas as pd\n",
    "import seaborn as sns\n",
    "\n",
    "df = pd.read_csv(\"_datasets/UK_houseprices.csv\")\n",
    "df.head()"
   ]
  },
  {
   "cell_type": "markdown",
   "id": "af4a10eb-93d7-44fa-bbf3-9c3de7025d2e",
   "metadata": {
    "nbgrader": {
     "grade": false,
     "grade_id": "cell-404456cc35ae4faa",
     "locked": true,
     "schema_version": 3,
     "solution": false,
     "task": false
    }
   },
   "source": [
    "## Problem 1\n",
    "\n",
    "Make a data frame called `sales` from `df` for just the columns *Date*, *RegionName*, *AveragePrice*, *SalesVolume*, *NewSalesVolume*, and *OldSalesVolume*. \n",
    "\n",
    "Create a series `avgPrice` that contains the average prices but without any of the NaN elements."
   ]
  },
  {
   "cell_type": "code",
   "execution_count": 3,
   "id": "6b3dc6c4-7547-4614-b0a7-7bab6a2d05e6",
   "metadata": {
    "nbgrader": {
     "grade": false,
     "grade_id": "ducks-mean",
     "locked": false,
     "schema_version": 3,
     "solution": true,
     "task": false
    },
    "tags": []
   },
   "outputs": [],
   "source": [
    "sales = df[ [\"Date\", \"RegionName\", \"AveragePrice\", \"SalesVolume\", \"NewSalesVolume\", \"OldSalesVolume\"] ]\n",
    "avgPrice = sales[\"AveragePrice\"].dropna()"
   ]
  },
  {
   "cell_type": "markdown",
   "id": "63d064c0",
   "metadata": {},
   "source": [
    "## Problem 2\n",
    "\n",
    "In the data frame `df`, the column *NewSalesVolume* corresponds to the number of newly build properties sold in a given month and region, and *OldSalesVolume* refers to exisiting properties. We would expect these to add up to the number of total sales in the column *SalesVolume*.\n",
    "\n",
    "Compute an integer variable `mismatchCount` that corresponds to the number of rows in `df` for which *SalesVolume* deviates from the sum of *NewSalesVolume* and *OldSalesVolume* by more than 0.5.\n",
    "\n",
    "Compute an array `mismatchRegions` that lists the unique regions for which a mismatch of counts occurred."
   ]
  },
  {
   "cell_type": "code",
   "execution_count": 4,
   "id": "4d999032",
   "metadata": {},
   "outputs": [],
   "source": [
    "def salesvoldev(x):\n",
    "    j = []\n",
    "    for i in range(len(x[\"SalesVolume\"])):\n",
    "        if x[\"OldSalesVolume\"][i] + x[\"NewSalesVolume\"][i] - 0.5 > x[\"SalesVolume\"][i] or x[\"OldSalesVolume\"][i] + x[\"NewSalesVolume\"][i] + 0.5 < x[\"SalesVolume\"][i]:\n",
    "            j.append(i)\n",
    "    return j\n",
    "mismatchCount = len(salesvoldev(df))\n",
    "mismatchRegions = df[\"RegionName\"].iloc[salesvoldev(df)].unique()"
   ]
  },
  {
   "cell_type": "markdown",
   "id": "ab13b0c0",
   "metadata": {},
   "source": [
    "## Problem 3\n",
    "\n",
    "Define a data frame `sales_clean` from `df` by removing all rows whose region name corresponds to either *United Kingdom*, *England*, *Scotland*, *Wales*, *Northern Ireland*. Also remove all rows that contain any NaN's."
   ]
  },
  {
   "cell_type": "code",
   "execution_count": 5,
   "id": "548e510b",
   "metadata": {},
   "outputs": [],
   "source": [
    "def remove_ukeswni(x):\n",
    "    j = []\n",
    "    for i in range(len(df[\"RegionName\"])):\n",
    "        if df[\"RegionName\"][i] == \"UnitedKingdom\" or df[\"RegionName\"][i] == \"England\" or df[\"RegionName\"][i] == \"Scotland\" or df[\"RegionName\"][i] == \"Wales\" or df[\"RegionName\"][i] == \"Northern Ireland\":\n",
    "            j.append(i)\n",
    "    return j\n",
    "sales_clean = df.drop(remove_ukeswni(df), axis=0).dropna()"
   ]
  },
  {
   "cell_type": "markdown",
   "id": "de436669",
   "metadata": {},
   "source": [
    "## Problem 4\n",
    "\n",
    "Create a series called `soldPerRegion` from `df` listing, for each *RegionName*, the total number of sales (sum of *SalesVolume*). Note that *RegionName* should be the index of that series."
   ]
  },
  {
   "cell_type": "code",
   "execution_count": 25,
   "id": "93697d89",
   "metadata": {},
   "outputs": [],
   "source": [
    "soldPerRegion = df.groupby(\"RegionName\").sum()[\"SalesVolume\"]"
   ]
  },
  {
   "cell_type": "markdown",
   "id": "85909270",
   "metadata": {},
   "source": [
    "## Problem 5\n",
    "\n",
    "We now conider only rows of `df` for the region *Greater Manchester*. Produce a series called `annualAvg` that, for each year, contains the average of *AveragePrice*. Note that the years should form the index of that series and they should be of integer data type."
   ]
  },
  {
   "cell_type": "code",
   "execution_count": 7,
   "id": "8448ce81",
   "metadata": {},
   "outputs": [],
   "source": [
    "yra = pd.concat([pd.to_datetime(df[\"Date\"]).dt.year, df[[\"RegionName\", \"AveragePrice\"]]], axis='columns')\n",
    "yraM = yra[yra[\"RegionName\"] == \"Greater Manchester\"]\n",
    "annualAvg = yraM.groupby(\"Date\")[\"AveragePrice\"].sum()"
   ]
  },
  {
   "cell_type": "markdown",
   "id": "6e8f6e11",
   "metadata": {},
   "source": [
    "## Problem 6\n",
    "\n",
    "Consider only data which falls into the year 2023 in `df`. For that year, compute a series `detached2023` that, for each region, contains the median *DetachedPrice*, i.e., the median price of a detached house in 2023. This series may contain some NaNs. \n",
    "\n",
    "Now find all expensive regions in `detached2023` with a *DetachedPrice* above the $p=0.95$ quantile (i.e., 95th percentile), and list them in a series `detached2023_expensive`.\n",
    "\n",
    "Note that *RegionName* should form the index of both series."
   ]
  },
  {
   "cell_type": "code",
   "execution_count": 24,
   "id": "111f14be",
   "metadata": {},
   "outputs": [],
   "source": [
    "df_2023 = df[(df['Date'] >= '2023-01-01') & (df['Date'] < '2024-01-01')]\n",
    "detached2023 = df_2023.groupby(\"RegionName\")[\"DetachedPrice\"].median()\n",
    "detached2023_expensive = detached2023[detached2023 > float(detached2023.quantile([0.95]))]"
   ]
  },
  {
   "cell_type": "markdown",
   "id": "1ee52202",
   "metadata": {},
   "source": [
    "## Problem 7\n",
    "\n",
    "Following on from problem 6, write code that determines the largest value of $p\\in [0,1]$ so that *Greater Manchester* is classed as an expensive region (using the 2023 median prices of detached houses, as before). Assign that value to the variable `p_gm`."
   ]
  },
  {
   "cell_type": "code",
   "execution_count": 9,
   "id": "70868ff5",
   "metadata": {},
   "outputs": [],
   "source": [
    "GMmed = detached2023[\"Greater Manchester\"]\n",
    "detached2023noNaN = detached2023.dropna()\n",
    "def le_GMmed(x):\n",
    "    j = 0\n",
    "    for i in range(len(x)):\n",
    "        if x[i] <= GMmed:\n",
    "            j = j + 1\n",
    "    return j\n",
    "p_gm = le_GMmed(detached2023noNaN) / (len(detached2023noNaN) + 1)"
   ]
  },
  {
   "cell_type": "markdown",
   "id": "167f3432",
   "metadata": {},
   "source": [
    "## Problem 8\n",
    "\n",
    "Create a new data frame `df_hpi` from `df` that has an additional column with name *HPI*. This should list the House Price Index (HPI) for each month and region. The HPI is a rescaled version of *AveragePrice* in a way that *HPI* takes the value 100 on the 1st of January 2015 in each region."
   ]
  },
  {
   "cell_type": "code",
   "execution_count": 13,
   "id": "8baae2d2",
   "metadata": {},
   "outputs": [],
   "source": [
    "averageprice = df.copy().set_index(\"RegionName\")[\"AveragePrice\"]\n",
    "averagepricejan12015 = df.copy()[df[\"Date\"] == \"2015-01-01\"].set_index(\"RegionName\")[\"AveragePrice\"]\n",
    "HPIlist = []\n",
    "for j in range(len(averageprice)):\n",
    "    for i in range(len(averagepricejan12015)):\n",
    "        if averageprice.index[j] == averagepricejan12015.index[i]:\n",
    "            HPIlist.append( (averageprice[j] * 100) / averagepricejan12015[i] )\n",
    "df_hpi = pd.concat([df, pd.Series(HPIlist, name=\"HPI\")], axis=\"columns\")"
   ]
  },
  {
   "cell_type": "markdown",
   "id": "415a227a",
   "metadata": {},
   "source": [
    "# End of test"
   ]
  },
  {
   "cell_type": "markdown",
   "id": "fe30d8cb",
   "metadata": {},
   "source": [
    "You can use the below tests to get an indication if part of your work returns the right data types."
   ]
  },
  {
   "cell_type": "code",
   "execution_count": 11,
   "id": "281d2d7e",
   "metadata": {},
   "outputs": [
    {
     "name": "stdout",
     "output_type": "stream",
     "text": [
      "OKAY - student_mail appears to be valid\n",
      "OKAY - dataframe df has not been modified\n",
      "OKAY - sales should be a pandas dataframe\n",
      "OKAY - avgPrice should be a pandas series\n",
      "OKAY - mismatchCount should be an int\n",
      "OKAY - mismatchRegions should be an array\n",
      "OKAY - required variables exist in memory\n"
     ]
    }
   ],
   "source": [
    "try: \n",
    "    import re\n",
    "    assert re.match(r'^[a-zA-Z0-9._%+-]+@[a-zA-Z0-9.-]+\\.[a-zA-Z]{2,}$', student_mail) and not 'firstname' in student_mail\n",
    "    print(\"OKAY - student_mail appears to be valid\")\n",
    "except:\n",
    "    print(\"WARN - student_mail could not be verified\")\n",
    "\n",
    "try: \n",
    "    df_reload = pd.read_csv(\"_datasets/UK_houseprices.csv\")\n",
    "    assert df_reload.compare(df).empty\n",
    "    print(\"OKAY - dataframe df has not been modified\")\n",
    "except:\n",
    "    print(\"WARN - dataframe df has been modified\")\n",
    "\n",
    "try: \n",
    "    assert type(sales) == pd.DataFrame\n",
    "    print(\"OKAY - sales should be a pandas dataframe\")\n",
    "except:\n",
    "    print(\"FAIL - sales should be a pandas dataframe\")\n",
    "\n",
    "try: \n",
    "    assert type(avgPrice) == pd.Series\n",
    "    print(\"OKAY - avgPrice should be a pandas series\")\n",
    "except:\n",
    "    print(\"FAIL - avgPrice should be a pandas series\")\n",
    "\n",
    "try: \n",
    "    assert isinstance(mismatchCount, (int, np.integer))\n",
    "    print(\"OKAY - mismatchCount should be an int\")\n",
    "except:\n",
    "    print(\"FAIL - mismatchCount should be an int\")\n",
    "\n",
    "try: \n",
    "    assert isinstance(mismatchRegions, (np.ndarray, list))\n",
    "    print(\"OKAY - mismatchRegions should be an array\")\n",
    "except:\n",
    "    print(\"FAIL - mismatchRegions should be an array\")\n",
    "\n",
    "try:\n",
    "    student_mail; student_id; df; sales; avgPrice; mismatchCount; mismatchRegions; sales_clean; \n",
    "    soldPerRegion; annualAvg; detached2023; detached2023_expensive; p_gm; df_hpi; \n",
    "    print(\"OKAY - required variables exist in memory\")\n",
    "except:\n",
    "    print(\"WARN - at least one of the required variables is not defined. check spelling?\")\n"
   ]
  }
 ],
 "metadata": {
  "kernelspec": {
   "display_name": "base",
   "language": "python",
   "name": "python3"
  },
  "language_info": {
   "codemirror_mode": {
    "name": "ipython",
    "version": 3
   },
   "file_extension": ".py",
   "mimetype": "text/x-python",
   "name": "python",
   "nbconvert_exporter": "python",
   "pygments_lexer": "ipython3",
   "version": "3.11.4"
  },
  "toc-autonumbering": false,
  "toc-showcode": false,
  "toc-showmarkdowntxt": true
 },
 "nbformat": 4,
 "nbformat_minor": 5
}
